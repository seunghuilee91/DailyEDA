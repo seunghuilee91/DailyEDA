{
 "cells": [
  {
   "cell_type": "code",
   "execution_count": 3,
   "metadata": {},
   "outputs": [],
   "source": [
    "# 국가별 군집 분석\n",
    "#### 1. 데이터 전처리 ####\n",
    "library(tidyverse)\n",
    "library(reshape2)\n",
    "library(tibble) \n",
    "library(stringr)\n",
    "rdata <- list()"
   ]
  },
  {
   "cell_type": "code",
   "execution_count": 5,
   "metadata": {},
   "outputs": [],
   "source": [
    "rdata$url <- c(\"https://raw.githubusercontent.com/CSSEGISandData/COVID-19/master/csse_covid_19_data/csse_covid_19_time_series/time_series_covid19_confirmed_global.csv\", \"https://raw.githubusercontent.com/CSSEGISandData/COVID-19/master/csse_covid_19_data/csse_covid_19_time_series/time_series_covid19_deaths_global.csv\")"
   ]
  },
  {
   "cell_type": "code",
   "execution_count": 51,
   "metadata": {},
   "outputs": [
    {
     "name": "stderr",
     "output_type": "stream",
     "text": [
      "Parsed with column specification:\n",
      "cols(\n",
      "  .default = col_double(),\n",
      "  `Province/State` = col_character(),\n",
      "  `Country/Region` = col_character()\n",
      ")\n",
      "See spec(...) for full column specifications.\n"
     ]
    }
   ],
   "source": [
    "# 날짜 및 나라별 확진자 수\n",
    "rdata$confirmedCases <- read_csv(rdata$url[1]) %>% \n",
    " select(-c(Lat,Long)) %>% melt(id=c('Country/Region','Province/State')) %>% rename(\"Country\"=1, \"State\"=2, \"Variable\"=3, \"Confirmed\"=4) %>% group_by(Country, Variable) %>% summarise(Confirmed=sum(Confirmed)) %>% \n",
    " rename(\"Country\"=1,\"Date\"=2,\"Confirmed\"=3)"
   ]
  },
  {
   "cell_type": "code",
   "execution_count": 52,
   "metadata": {},
   "outputs": [
    {
     "name": "stderr",
     "output_type": "stream",
     "text": [
      "Parsed with column specification:\n",
      "cols(\n",
      "  .default = col_double(),\n",
      "  `Province/State` = col_character(),\n",
      "  `Country/Region` = col_character()\n",
      ")\n",
      "See spec(...) for full column specifications.\n"
     ]
    }
   ],
   "source": [
    "# 날짜 및 나라별 사망자 수\n",
    "rdata$DeathCases <- read_csv(rdata$url[2]) %>% select(-c(Lat,Long)) %>% melt(id=c('Country/Region','Province/State'))%>% \n",
    " rename(\"Country\"=1,State=2, \"Variable\"=3, \"Deaths\"=4) %>% \n",
    " group_by(Country, Variable) %>% summarise(Confirmed=sum(Deaths)) %>% rename(\"Country\"=1,\"Date\"=2,\"Deaths\"=3)"
   ]
  },
  {
   "cell_type": "code",
   "execution_count": 53,
   "metadata": {},
   "outputs": [],
   "source": [
    "# 확진자, 사망자 합치기\n",
    "rdata$World <- merge(rdata$confirmedCases, rdata$DeathCases, \n",
    " by.y=c(\"Country\",\"Date\")) %>% mutate(Date=as.Date(.$Date, \"%m/%d/%y\"))"
   ]
  },
  {
   "cell_type": "code",
   "execution_count": 54,
   "metadata": {},
   "outputs": [
    {
     "data": {
      "text/html": [
       "<table>\n",
       "<thead><tr><th scope=col>Country</th><th scope=col>Date</th><th scope=col>Confirmed</th><th scope=col>Deaths</th></tr></thead>\n",
       "<tbody>\n",
       "\t<tr><td>Afghanistan</td><td>2020-01-22 </td><td>0          </td><td>0          </td></tr>\n",
       "\t<tr><td>Afghanistan</td><td>2020-01-23 </td><td>0          </td><td>0          </td></tr>\n",
       "\t<tr><td>Afghanistan</td><td>2020-01-24 </td><td>0          </td><td>0          </td></tr>\n",
       "\t<tr><td>Afghanistan</td><td>2020-01-25 </td><td>0          </td><td>0          </td></tr>\n",
       "\t<tr><td>Afghanistan</td><td>2020-01-26 </td><td>0          </td><td>0          </td></tr>\n",
       "\t<tr><td>Afghanistan</td><td>2020-01-27 </td><td>0          </td><td>0          </td></tr>\n",
       "</tbody>\n",
       "</table>\n"
      ],
      "text/latex": [
       "\\begin{tabular}{r|llll}\n",
       " Country & Date & Confirmed & Deaths\\\\\n",
       "\\hline\n",
       "\t Afghanistan & 2020-01-22  & 0           & 0          \\\\\n",
       "\t Afghanistan & 2020-01-23  & 0           & 0          \\\\\n",
       "\t Afghanistan & 2020-01-24  & 0           & 0          \\\\\n",
       "\t Afghanistan & 2020-01-25  & 0           & 0          \\\\\n",
       "\t Afghanistan & 2020-01-26  & 0           & 0          \\\\\n",
       "\t Afghanistan & 2020-01-27  & 0           & 0          \\\\\n",
       "\\end{tabular}\n"
      ],
      "text/markdown": [
       "\n",
       "| Country | Date | Confirmed | Deaths |\n",
       "|---|---|---|---|\n",
       "| Afghanistan | 2020-01-22  | 0           | 0           |\n",
       "| Afghanistan | 2020-01-23  | 0           | 0           |\n",
       "| Afghanistan | 2020-01-24  | 0           | 0           |\n",
       "| Afghanistan | 2020-01-25  | 0           | 0           |\n",
       "| Afghanistan | 2020-01-26  | 0           | 0           |\n",
       "| Afghanistan | 2020-01-27  | 0           | 0           |\n",
       "\n"
      ],
      "text/plain": [
       "  Country     Date       Confirmed Deaths\n",
       "1 Afghanistan 2020-01-22 0         0     \n",
       "2 Afghanistan 2020-01-23 0         0     \n",
       "3 Afghanistan 2020-01-24 0         0     \n",
       "4 Afghanistan 2020-01-25 0         0     \n",
       "5 Afghanistan 2020-01-26 0         0     \n",
       "6 Afghanistan 2020-01-27 0         0     "
      ]
     },
     "metadata": {},
     "output_type": "display_data"
    }
   ],
   "source": [
    "rdata$World %>% head()"
   ]
  },
  {
   "cell_type": "code",
   "execution_count": 55,
   "metadata": {},
   "outputs": [],
   "source": [
    "# 타이완에 *표 없애기, 우리나라 Korea로 표현하기, 국가 이름 일치시키기\n",
    "rdata$World$Country <- gsub(\"Taiwan\\\\*\", \"Taiwan\", rdata$World$Country)\n",
    "rdata$World$Country <- gsub(\"Korea\\\\, South\", \"Korea\", rdata$World$Country)\n",
    "rdata$World$Country <- gsub(\"North Macedonia\", \"Macedonia\", rdata$World$Country)\n",
    "rdata$World$Country <- gsub(\"United Kingdom\", \"UK\", rdata$World$Country)\n",
    "rdata$World$Country <- gsub(\"United Arab Emirates\", \"A.Emirates\", \n",
    " rdata$World$Country)"
   ]
  },
  {
   "cell_type": "code",
   "execution_count": 56,
   "metadata": {},
   "outputs": [
    {
     "data": {
      "text/html": [
       "<table>\n",
       "<thead><tr><th scope=col>Country</th><th scope=col>Date</th><th scope=col>Confirmed</th><th scope=col>Deaths</th><th scope=col>DeathRate</th></tr></thead>\n",
       "<tbody>\n",
       "\t<tr><td>A.Emirates</td><td>2020-01-22</td><td>0         </td><td>0         </td><td>0         </td></tr>\n",
       "\t<tr><td>A.Emirates</td><td>2020-01-23</td><td>0         </td><td>0         </td><td>0         </td></tr>\n",
       "\t<tr><td>A.Emirates</td><td>2020-01-24</td><td>0         </td><td>0         </td><td>0         </td></tr>\n",
       "\t<tr><td>A.Emirates</td><td>2020-01-25</td><td>0         </td><td>0         </td><td>0         </td></tr>\n",
       "\t<tr><td>A.Emirates</td><td>2020-01-26</td><td>0         </td><td>0         </td><td>0         </td></tr>\n",
       "\t<tr><td>A.Emirates</td><td>2020-01-27</td><td>0         </td><td>0         </td><td>0         </td></tr>\n",
       "</tbody>\n",
       "</table>\n"
      ],
      "text/latex": [
       "\\begin{tabular}{r|lllll}\n",
       " Country & Date & Confirmed & Deaths & DeathRate\\\\\n",
       "\\hline\n",
       "\t A.Emirates & 2020-01-22 & 0          & 0          & 0         \\\\\n",
       "\t A.Emirates & 2020-01-23 & 0          & 0          & 0         \\\\\n",
       "\t A.Emirates & 2020-01-24 & 0          & 0          & 0         \\\\\n",
       "\t A.Emirates & 2020-01-25 & 0          & 0          & 0         \\\\\n",
       "\t A.Emirates & 2020-01-26 & 0          & 0          & 0         \\\\\n",
       "\t A.Emirates & 2020-01-27 & 0          & 0          & 0         \\\\\n",
       "\\end{tabular}\n"
      ],
      "text/markdown": [
       "\n",
       "| Country | Date | Confirmed | Deaths | DeathRate |\n",
       "|---|---|---|---|---|\n",
       "| A.Emirates | 2020-01-22 | 0          | 0          | 0          |\n",
       "| A.Emirates | 2020-01-23 | 0          | 0          | 0          |\n",
       "| A.Emirates | 2020-01-24 | 0          | 0          | 0          |\n",
       "| A.Emirates | 2020-01-25 | 0          | 0          | 0          |\n",
       "| A.Emirates | 2020-01-26 | 0          | 0          | 0          |\n",
       "| A.Emirates | 2020-01-27 | 0          | 0          | 0          |\n",
       "\n"
      ],
      "text/plain": [
       "  Country    Date       Confirmed Deaths DeathRate\n",
       "1 A.Emirates 2020-01-22 0         0      0        \n",
       "2 A.Emirates 2020-01-23 0         0      0        \n",
       "3 A.Emirates 2020-01-24 0         0      0        \n",
       "4 A.Emirates 2020-01-25 0         0      0        \n",
       "5 A.Emirates 2020-01-26 0         0      0        \n",
       "6 A.Emirates 2020-01-27 0         0      0        "
      ]
     },
     "metadata": {},
     "output_type": "display_data"
    }
   ],
   "source": [
    "# 사망률 계산하기\n",
    "head(rdata$data <- rdata$World %>% \n",
    "  mutate(DeathRate=ifelse(Confirmed==0, 0, 100*Deaths/Confirmed)) %>%\n",
    "  arrange(Country, Date))"
   ]
  },
  {
   "cell_type": "code",
   "execution_count": 59,
   "metadata": {},
   "outputs": [
    {
     "name": "stderr",
     "output_type": "stream",
     "text": [
      "Parsed with column specification:\n",
      "cols(\n",
      "  Country = col_character(),\n",
      "  Year = col_double(),\n",
      "  Population = col_double()\n",
      ")\n",
      "Parsed with column specification:\n",
      "cols(\n",
      "  Country = col_character(),\n",
      "  Trust = col_double()\n",
      ")\n"
     ]
    },
    {
     "data": {
      "text/html": [
       "<table>\n",
       "<thead><tr><th scope=col>Country</th><th scope=col>Trust</th><th scope=col>Population</th></tr></thead>\n",
       "<tbody>\n",
       "\t<tr><td>Afghanistan</td><td>45.19529   </td><td>38042000   </td></tr>\n",
       "\t<tr><td>Albania    </td><td>46.44411   </td><td> 2881000   </td></tr>\n",
       "\t<tr><td>Algeria    </td><td>38.05931   </td><td>43053000   </td></tr>\n",
       "\t<tr><td>Argentina  </td><td>31.92407   </td><td>44781000   </td></tr>\n",
       "\t<tr><td>Armenia    </td><td>79.74244   </td><td> 2958000   </td></tr>\n",
       "\t<tr><td>Australia  </td><td>46.97924   </td><td>25203000   </td></tr>\n",
       "</tbody>\n",
       "</table>\n"
      ],
      "text/latex": [
       "\\begin{tabular}{r|lll}\n",
       " Country & Trust & Population\\\\\n",
       "\\hline\n",
       "\t Afghanistan & 45.19529    & 38042000   \\\\\n",
       "\t Albania     & 46.44411    &  2881000   \\\\\n",
       "\t Algeria     & 38.05931    & 43053000   \\\\\n",
       "\t Argentina   & 31.92407    & 44781000   \\\\\n",
       "\t Armenia     & 79.74244    &  2958000   \\\\\n",
       "\t Australia   & 46.97924    & 25203000   \\\\\n",
       "\\end{tabular}\n"
      ],
      "text/markdown": [
       "\n",
       "| Country | Trust | Population |\n",
       "|---|---|---|\n",
       "| Afghanistan | 45.19529    | 38042000    |\n",
       "| Albania     | 46.44411    |  2881000    |\n",
       "| Algeria     | 38.05931    | 43053000    |\n",
       "| Argentina   | 31.92407    | 44781000    |\n",
       "| Armenia     | 79.74244    |  2958000    |\n",
       "| Australia   | 46.97924    | 25203000    |\n",
       "\n"
      ],
      "text/plain": [
       "  Country     Trust    Population\n",
       "1 Afghanistan 45.19529 38042000  \n",
       "2 Albania     46.44411  2881000  \n",
       "3 Algeria     38.05931 43053000  \n",
       "4 Argentina   31.92407 44781000  \n",
       "5 Armenia     79.74244  2958000  \n",
       "6 Australia   46.97924 25203000  "
      ]
     },
     "metadata": {},
     "output_type": "display_data"
    }
   ],
   "source": [
    "#### 나. 나라별 인구수와 국가를 신뢰하는 정도 ####\n",
    "rdata$Population <- read_csv(\"https://raw.githubusercontent.com/cysics/COVID-19/master/data/Population.csv\") %>% \n",
    " filter(Year==\"2019\") %>% select(c(1,3))   # 인구는 2019년 기준\n",
    "\n",
    "rdata$Trust <- read_csv(\"https://raw.githubusercontent.com/cysics/COVID-19/master/data/Trust.csv\") # 인구는 2018년 기준\n",
    "\n",
    "head(rdata$TrustP <- merge(rdata$Trust, rdata$Population, by='Country'))"
   ]
  },
  {
   "cell_type": "code",
   "execution_count": 60,
   "metadata": {},
   "outputs": [],
   "source": [
    "\n",
    "# 이름 일치시키기(페로, 홍콩, 팔레스타인 제외)\n",
    "rdata$TrustP$Country <- gsub(\"South Korea\", \"Korea\", rdata$TrustP$Country)\n",
    "rdata$TrustP$Country <- gsub(\"United States\", \"US\", rdata$TrustP$Country)\n",
    "rdata$TrustP$Country <- gsub(\"Czech Republic\", \"Czechia\", \n",
    " rdata$TrustP$Country)\n",
    "rdata$TrustP$Country <- gsub(\"United Kingdom\", \"UK\", rdata$TrustP$Country)\n",
    "rdata$World$Country <- gsub(\"Bahamas, The\", \"Bahamas\", rdata$World$Country)\n",
    "rdata$World$Country <- gsub(\"North Macedonia\", \"Macedonia\", rdata$World$Country)\n",
    "rdata$World$Country <- gsub(\"Gambia, The\", \"Gambia\", rdata$World$Country)\n",
    "rdata$World$Country <- gsub(\"East Timor\", \"Timor\", rdata$World$Country)"
   ]
  },
  {
   "cell_type": "code",
   "execution_count": 61,
   "metadata": {},
   "outputs": [],
   "source": [
    "#### 다. 다 합치기 ####\n",
    "# 검사자 수, 인구, 확진자, 사망자, 완치자 데이터 모두 합치기\n",
    "rdata$data <- merge(rdata$TrustP, rdata$World, by='Country')"
   ]
  },
  {
   "cell_type": "code",
   "execution_count": 62,
   "metadata": {},
   "outputs": [],
   "source": [
    "# 백만명당 확진자, 사망자 구하기\n",
    "rdata$data <- rdata$data %>% mutate(ConfirmedperM=Confirmed*1000000/Population) %>% \n",
    " mutate(DeathsperM=Deaths*1000000/Population)\n"
   ]
  },
  {
   "cell_type": "code",
   "execution_count": 33,
   "metadata": {},
   "outputs": [
    {
     "name": "stderr",
     "output_type": "stream",
     "text": [
      "Warning message:\n",
      "\"package 'pheatmap' was built under R version 3.6.3\"Warning message:\n",
      "\"package 'factoextra' was built under R version 3.6.3\"Welcome! Want to learn more? See two factoextra-related books at https://goo.gl/ve3WBa\n"
     ]
    }
   ],
   "source": [
    "#### 2. 군집분석 ####\n",
    "library(pheatmap) \n",
    "library(NbClust) \n",
    "library(factoextra)"
   ]
  },
  {
   "cell_type": "code",
   "execution_count": 63,
   "metadata": {},
   "outputs": [
    {
     "data": {
      "image/png": "[encoded data removed]",
      "text/plain": [
       "plot without title"
      ]
     },
     "metadata": {},
     "output_type": "display_data"
    }
   ],
   "source": [
    "#### 가. 기본 변수간 군집분석 ####\n",
    "data <- rdata$data %>% filter(Date==\"2020-05-01\") %>% \n",
    " select(-c(\"Country\", \"Date\"))\n",
    "\n",
    "pheatmap(cor(data, method=\"pearson\"), cutree_rows=4, cutree_cols=4,\n",
    " display_numbers=T, fontsize=8, number_format=\"%.2f\", number_color=\"grey0\")"
   ]
  },
  {
   "cell_type": "code",
   "execution_count": 65,
   "metadata": {},
   "outputs": [
    {
     "data": {
      "text/html": [
       "<ol class=list-inline>\n",
       "\t<li>'Afghanistan'</li>\n",
       "\t<li>'Algeria'</li>\n",
       "\t<li>'Argentina'</li>\n",
       "\t<li>'Armenia'</li>\n",
       "\t<li>'Australia'</li>\n",
       "\t<li>'Austria'</li>\n",
       "\t<li>'Azerbaijan'</li>\n",
       "\t<li>'Bangladesh'</li>\n",
       "\t<li>'Belarus'</li>\n",
       "\t<li>'Belgium'</li>\n",
       "\t<li>'Bolivia'</li>\n",
       "\t<li>'Bosnia and Herzegovina'</li>\n",
       "\t<li>'Brazil'</li>\n",
       "\t<li>'Bulgaria'</li>\n",
       "\t<li>'Cameroon'</li>\n",
       "\t<li>'Canada'</li>\n",
       "\t<li>'Chile'</li>\n",
       "\t<li>'Colombia'</li>\n",
       "\t<li>'Cote d\\'Ivoire'</li>\n",
       "\t<li>'Croatia'</li>\n",
       "\t<li>'Czechia'</li>\n",
       "\t<li>'Denmark'</li>\n",
       "\t<li>'Dominican Republic'</li>\n",
       "\t<li>'Ecuador'</li>\n",
       "\t<li>'Estonia'</li>\n",
       "\t<li>'Finland'</li>\n",
       "\t<li>'France'</li>\n",
       "\t<li>'Germany'</li>\n",
       "\t<li>'Ghana'</li>\n",
       "\t<li>'Greece'</li>\n",
       "\t<li>'Guinea'</li>\n",
       "\t<li>'Hungary'</li>\n",
       "\t<li>'Iceland'</li>\n",
       "\t<li>'India'</li>\n",
       "\t<li>'Indonesia'</li>\n",
       "\t<li>'Iran'</li>\n",
       "\t<li>'Iraq'</li>\n",
       "\t<li>'Ireland'</li>\n",
       "\t<li>'Israel'</li>\n",
       "\t<li>'Italy'</li>\n",
       "\t<li>'Japan'</li>\n",
       "\t<li>'Kazakhstan'</li>\n",
       "\t<li>'Korea'</li>\n",
       "\t<li>'Lithuania'</li>\n",
       "\t<li>'Luxembourg'</li>\n",
       "\t<li>'Macedonia'</li>\n",
       "\t<li>'Malaysia'</li>\n",
       "\t<li>'Mexico'</li>\n",
       "\t<li>'Moldova'</li>\n",
       "\t<li>'Morocco'</li>\n",
       "\t<li>'Netherlands'</li>\n",
       "\t<li>'New Zealand'</li>\n",
       "\t<li>'Nigeria'</li>\n",
       "\t<li>'Norway'</li>\n",
       "\t<li>'Pakistan'</li>\n",
       "\t<li>'Panama'</li>\n",
       "\t<li>'Peru'</li>\n",
       "\t<li>'Philippines'</li>\n",
       "\t<li>'Poland'</li>\n",
       "\t<li>'Portugal'</li>\n",
       "\t<li>'Romania'</li>\n",
       "\t<li>'Russia'</li>\n",
       "\t<li>'Senegal'</li>\n",
       "\t<li>'Serbia'</li>\n",
       "\t<li>'Singapore'</li>\n",
       "\t<li>'Slovakia'</li>\n",
       "\t<li>'Slovenia'</li>\n",
       "\t<li>'South Africa'</li>\n",
       "\t<li>'Spain'</li>\n",
       "\t<li>'Sweden'</li>\n",
       "\t<li>'Switzerland'</li>\n",
       "\t<li>'Thailand'</li>\n",
       "\t<li>'Turkey'</li>\n",
       "\t<li>'UK'</li>\n",
       "\t<li>'Ukraine'</li>\n",
       "\t<li>'US'</li>\n",
       "\t<li>'Uzbekistan'</li>\n",
       "</ol>\n"
      ],
      "text/latex": [
       "\\begin{enumerate*}\n",
       "\\item 'Afghanistan'\n",
       "\\item 'Algeria'\n",
       "\\item 'Argentina'\n",
       "\\item 'Armenia'\n",
       "\\item 'Australia'\n",
       "\\item 'Austria'\n",
       "\\item 'Azerbaijan'\n",
       "\\item 'Bangladesh'\n",
       "\\item 'Belarus'\n",
       "\\item 'Belgium'\n",
       "\\item 'Bolivia'\n",
       "\\item 'Bosnia and Herzegovina'\n",
       "\\item 'Brazil'\n",
       "\\item 'Bulgaria'\n",
       "\\item 'Cameroon'\n",
       "\\item 'Canada'\n",
       "\\item 'Chile'\n",
       "\\item 'Colombia'\n",
       "\\item 'Cote d\\textbackslash{}'Ivoire'\n",
       "\\item 'Croatia'\n",
       "\\item 'Czechia'\n",
       "\\item 'Denmark'\n",
       "\\item 'Dominican Republic'\n",
       "\\item 'Ecuador'\n",
       "\\item 'Estonia'\n",
       "\\item 'Finland'\n",
       "\\item 'France'\n",
       "\\item 'Germany'\n",
       "\\item 'Ghana'\n",
       "\\item 'Greece'\n",
       "\\item 'Guinea'\n",
       "\\item 'Hungary'\n",
       "\\item 'Iceland'\n",
       "\\item 'India'\n",
       "\\item 'Indonesia'\n",
       "\\item 'Iran'\n",
       "\\item 'Iraq'\n",
       "\\item 'Ireland'\n",
       "\\item 'Israel'\n",
       "\\item 'Italy'\n",
       "\\item 'Japan'\n",
       "\\item 'Kazakhstan'\n",
       "\\item 'Korea'\n",
       "\\item 'Lithuania'\n",
       "\\item 'Luxembourg'\n",
       "\\item 'Macedonia'\n",
       "\\item 'Malaysia'\n",
       "\\item 'Mexico'\n",
       "\\item 'Moldova'\n",
       "\\item 'Morocco'\n",
       "\\item 'Netherlands'\n",
       "\\item 'New Zealand'\n",
       "\\item 'Nigeria'\n",
       "\\item 'Norway'\n",
       "\\item 'Pakistan'\n",
       "\\item 'Panama'\n",
       "\\item 'Peru'\n",
       "\\item 'Philippines'\n",
       "\\item 'Poland'\n",
       "\\item 'Portugal'\n",
       "\\item 'Romania'\n",
       "\\item 'Russia'\n",
       "\\item 'Senegal'\n",
       "\\item 'Serbia'\n",
       "\\item 'Singapore'\n",
       "\\item 'Slovakia'\n",
       "\\item 'Slovenia'\n",
       "\\item 'South Africa'\n",
       "\\item 'Spain'\n",
       "\\item 'Sweden'\n",
       "\\item 'Switzerland'\n",
       "\\item 'Thailand'\n",
       "\\item 'Turkey'\n",
       "\\item 'UK'\n",
       "\\item 'Ukraine'\n",
       "\\item 'US'\n",
       "\\item 'Uzbekistan'\n",
       "\\end{enumerate*}\n"
      ],
      "text/markdown": [
       "1. 'Afghanistan'\n",
       "2. 'Algeria'\n",
       "3. 'Argentina'\n",
       "4. 'Armenia'\n",
       "5. 'Australia'\n",
       "6. 'Austria'\n",
       "7. 'Azerbaijan'\n",
       "8. 'Bangladesh'\n",
       "9. 'Belarus'\n",
       "10. 'Belgium'\n",
       "11. 'Bolivia'\n",
       "12. 'Bosnia and Herzegovina'\n",
       "13. 'Brazil'\n",
       "14. 'Bulgaria'\n",
       "15. 'Cameroon'\n",
       "16. 'Canada'\n",
       "17. 'Chile'\n",
       "18. 'Colombia'\n",
       "19. 'Cote d\\'Ivoire'\n",
       "20. 'Croatia'\n",
       "21. 'Czechia'\n",
       "22. 'Denmark'\n",
       "23. 'Dominican Republic'\n",
       "24. 'Ecuador'\n",
       "25. 'Estonia'\n",
       "26. 'Finland'\n",
       "27. 'France'\n",
       "28. 'Germany'\n",
       "29. 'Ghana'\n",
       "30. 'Greece'\n",
       "31. 'Guinea'\n",
       "32. 'Hungary'\n",
       "33. 'Iceland'\n",
       "34. 'India'\n",
       "35. 'Indonesia'\n",
       "36. 'Iran'\n",
       "37. 'Iraq'\n",
       "38. 'Ireland'\n",
       "39. 'Israel'\n",
       "40. 'Italy'\n",
       "41. 'Japan'\n",
       "42. 'Kazakhstan'\n",
       "43. 'Korea'\n",
       "44. 'Lithuania'\n",
       "45. 'Luxembourg'\n",
       "46. 'Macedonia'\n",
       "47. 'Malaysia'\n",
       "48. 'Mexico'\n",
       "49. 'Moldova'\n",
       "50. 'Morocco'\n",
       "51. 'Netherlands'\n",
       "52. 'New Zealand'\n",
       "53. 'Nigeria'\n",
       "54. 'Norway'\n",
       "55. 'Pakistan'\n",
       "56. 'Panama'\n",
       "57. 'Peru'\n",
       "58. 'Philippines'\n",
       "59. 'Poland'\n",
       "60. 'Portugal'\n",
       "61. 'Romania'\n",
       "62. 'Russia'\n",
       "63. 'Senegal'\n",
       "64. 'Serbia'\n",
       "65. 'Singapore'\n",
       "66. 'Slovakia'\n",
       "67. 'Slovenia'\n",
       "68. 'South Africa'\n",
       "69. 'Spain'\n",
       "70. 'Sweden'\n",
       "71. 'Switzerland'\n",
       "72. 'Thailand'\n",
       "73. 'Turkey'\n",
       "74. 'UK'\n",
       "75. 'Ukraine'\n",
       "76. 'US'\n",
       "77. 'Uzbekistan'\n",
       "\n",
       "\n"
      ],
      "text/plain": [
       " [1] \"Afghanistan\"            \"Algeria\"                \"Argentina\"             \n",
       " [4] \"Armenia\"                \"Australia\"              \"Austria\"               \n",
       " [7] \"Azerbaijan\"             \"Bangladesh\"             \"Belarus\"               \n",
       "[10] \"Belgium\"                \"Bolivia\"                \"Bosnia and Herzegovina\"\n",
       "[13] \"Brazil\"                 \"Bulgaria\"               \"Cameroon\"              \n",
       "[16] \"Canada\"                 \"Chile\"                  \"Colombia\"              \n",
       "[19] \"Cote d'Ivoire\"          \"Croatia\"                \"Czechia\"               \n",
       "[22] \"Denmark\"                \"Dominican Republic\"     \"Ecuador\"               \n",
       "[25] \"Estonia\"                \"Finland\"                \"France\"                \n",
       "[28] \"Germany\"                \"Ghana\"                  \"Greece\"                \n",
       "[31] \"Guinea\"                 \"Hungary\"                \"Iceland\"               \n",
       "[34] \"India\"                  \"Indonesia\"              \"Iran\"                  \n",
       "[37] \"Iraq\"                   \"Ireland\"                \"Israel\"                \n",
       "[40] \"Italy\"                  \"Japan\"                  \"Kazakhstan\"            \n",
       "[43] \"Korea\"                  \"Lithuania\"              \"Luxembourg\"            \n",
       "[46] \"Macedonia\"              \"Malaysia\"               \"Mexico\"                \n",
       "[49] \"Moldova\"                \"Morocco\"                \"Netherlands\"           \n",
       "[52] \"New Zealand\"            \"Nigeria\"                \"Norway\"                \n",
       "[55] \"Pakistan\"               \"Panama\"                 \"Peru\"                  \n",
       "[58] \"Philippines\"            \"Poland\"                 \"Portugal\"              \n",
       "[61] \"Romania\"                \"Russia\"                 \"Senegal\"               \n",
       "[64] \"Serbia\"                 \"Singapore\"              \"Slovakia\"              \n",
       "[67] \"Slovenia\"               \"South Africa\"           \"Spain\"                 \n",
       "[70] \"Sweden\"                 \"Switzerland\"            \"Thailand\"              \n",
       "[73] \"Turkey\"                 \"UK\"                     \"Ukraine\"               \n",
       "[76] \"US\"                     \"Uzbekistan\"            "
      ]
     },
     "metadata": {},
     "output_type": "display_data"
    }
   ],
   "source": [
    "#### 나. 코로나19 확산 관련 ####\n",
    "# 1000명 이상의 확진자를 낸 국가들 ####\n",
    "rdata$data %>% group_by(Country) %>% filter(Date<Sys.Date()) %>% \n",
    " filter(Confirmed>=1000) %>% distinct(Country) %>% .$Country"
   ]
  },
  {
   "cell_type": "code",
   "execution_count": 66,
   "metadata": {},
   "outputs": [],
   "source": [
    "cutoff <-10000"
   ]
  },
  {
   "cell_type": "code",
   "execution_count": 68,
   "metadata": {},
   "outputs": [
    {
     "name": "stdout",
     "output_type": "stream",
     "text": [
      "*** : The Hubert index is a graphical method of determining the number of clusters.\n",
      "                In the plot of Hubert index, we seek a significant knee that corresponds to a \n",
      "                significant increase of the value of the measure i.e the significant peak in Hubert\n",
      "                index second differences plot. \n",
      " \n"
     ]
    },
    {
     "data": {
      "image/png": "[encoded data removed]",
      "text/plain": [
       "plot without title"
      ]
     },
     "metadata": {},
     "output_type": "display_data"
    },
    {
     "name": "stdout",
     "output_type": "stream",
     "text": [
      "*** : The D index is a graphical method of determining the number of clusters. \n",
      "                In the plot of D index, we seek a significant knee (the significant peak in Dindex\n",
      "                second differences plot) that corresponds to a significant increase of the value of\n",
      "                the measure. \n",
      " \n",
      "******************************************************************* \n",
      "* Among all indices:                                                \n",
      "* 9 proposed 2 as the best number of clusters \n",
      "* 10 proposed 3 as the best number of clusters \n",
      "* 2 proposed 4 as the best number of clusters \n",
      "* 2 proposed 5 as the best number of clusters \n",
      "\n",
      "                   ***** Conclusion *****                            \n",
      " \n",
      "* According to the majority rule, the best number of clusters is  3 \n",
      " \n",
      " \n",
      "******************************************************************* \n"
     ]
    },
    {
     "data": {
      "text/html": [
       "<dl>\n",
       "\t<dt>$All.index</dt>\n",
       "\t\t<dd><table>\n",
       "<thead><tr><th></th><th scope=col>KL</th><th scope=col>CH</th><th scope=col>Hartigan</th><th scope=col>CCC</th><th scope=col>Scott</th><th scope=col>Marriot</th><th scope=col>TrCovW</th><th scope=col>TraceW</th><th scope=col>Friedman</th><th scope=col>Rubin</th><th scope=col>...</th><th scope=col>Ratkowsky</th><th scope=col>Ball</th><th scope=col>Ptbiserial</th><th scope=col>Frey</th><th scope=col>McClain</th><th scope=col>Dunn</th><th scope=col>Hubert</th><th scope=col>SDindex</th><th scope=col>Dindex</th><th scope=col>SDbw</th></tr></thead>\n",
       "<tbody>\n",
       "\t<tr><th scope=row>2</th><td>0.9394  </td><td> 7.8161 </td><td>9.1095  </td><td>-0.6773 </td><td>18.6268 </td><td>36.8841 </td><td>14.2596 </td><td>9.1198  </td><td> 11.5328</td><td> 2.3027 </td><td>...     </td><td>0.4999  </td><td>4.5599  </td><td>0.8414  </td><td>2.3369  </td><td>0.1440  </td><td>1.1994  </td><td>0.0974  </td><td>1.2290  </td><td>0.9752  </td><td>0.3097  </td></tr>\n",
       "\t<tr><th scope=row>3</th><td>2.5169  </td><td>11.9968 </td><td>4.5573  </td><td>-0.1073 </td><td>42.7664 </td><td> 4.0603 </td><td> 1.1290 </td><td>3.6215  </td><td> 34.9893</td><td> 5.7987 </td><td>...     </td><td>0.5243  </td><td>1.2072  </td><td>0.6349  </td><td>0.7131  </td><td>0.9154  </td><td>0.6809  </td><td>0.0857  </td><td>1.3784  </td><td>0.5736  </td><td>0.1455  </td></tr>\n",
       "\t<tr><th scope=row>4</th><td>2.3474  </td><td>13.4454 </td><td>2.1574  </td><td>-0.2553 </td><td>51.7174 </td><td> 2.3578 </td><td> 0.3953 </td><td>1.8946  </td><td> 45.7260</td><td>11.0841 </td><td>...     </td><td>0.4768  </td><td>0.4737  </td><td>0.5799  </td><td>1.9251  </td><td>1.3798  </td><td>0.8633  </td><td>0.0842  </td><td>1.5889  </td><td>0.4096  </td><td>0.0696  </td></tr>\n",
       "\t<tr><th scope=row>5</th><td>0.6334  </td><td>12.0466 </td><td>3.9932  </td><td>-1.2208 </td><td>67.4273 </td><td> 0.5170 </td><td> 0.0838 </td><td>1.2308  </td><td>101.9008</td><td>17.0621 </td><td>...     </td><td>0.4339  </td><td>0.2462  </td><td>0.4763  </td><td>0.6194  </td><td>2.2147  </td><td>0.8575  </td><td>0.0869  </td><td>2.3199  </td><td>0.2967  </td><td>0.0470  </td></tr>\n",
       "</tbody>\n",
       "</table>\n",
       "</dd>\n",
       "\t<dt>$All.CriticalValues</dt>\n",
       "\t\t<dd><table>\n",
       "<thead><tr><th></th><th scope=col>CritValue_Duda</th><th scope=col>CritValue_PseudoT2</th><th scope=col>Fvalue_Beale</th></tr></thead>\n",
       "<tbody>\n",
       "\t<tr><th scope=row>2</th><td>-0.0559 </td><td>-94.5213</td><td>0.1361  </td></tr>\n",
       "\t<tr><th scope=row>3</th><td>-0.3282 </td><td> -8.0930</td><td>0.5116  </td></tr>\n",
       "\t<tr><th scope=row>4</th><td>-0.5009 </td><td> -2.9964</td><td>1.0000  </td></tr>\n",
       "\t<tr><th scope=row>5</th><td>-0.5009 </td><td> -2.9964</td><td>0.8849  </td></tr>\n",
       "</tbody>\n",
       "</table>\n",
       "</dd>\n",
       "\t<dt>$Best.nc</dt>\n",
       "\t\t<dd><table>\n",
       "<thead><tr><th></th><th scope=col>KL</th><th scope=col>CH</th><th scope=col>Hartigan</th><th scope=col>CCC</th><th scope=col>Scott</th><th scope=col>Marriot</th><th scope=col>TrCovW</th><th scope=col>TraceW</th><th scope=col>Friedman</th><th scope=col>Rubin</th><th scope=col>...</th><th scope=col>Ratkowsky</th><th scope=col>Ball</th><th scope=col>PtBiserial</th><th scope=col>Frey</th><th scope=col>McClain</th><th scope=col>Dunn</th><th scope=col>Hubert</th><th scope=col>SDindex</th><th scope=col>Dindex</th><th scope=col>SDbw</th></tr></thead>\n",
       "<tbody>\n",
       "\t<tr><th scope=row>Number_clusters</th><td>3.0000 </td><td> 4.0000</td><td>3.0000 </td><td> 3.0000</td><td> 3.0000</td><td> 3.0000</td><td> 3.0000</td><td>3.0000 </td><td> 5.0000</td><td>4.0000 </td><td>...    </td><td>3.0000 </td><td>3.0000 </td><td>2.0000 </td><td>2.0000 </td><td>2.000  </td><td>2.0000 </td><td>0      </td><td>2.000  </td><td>0      </td><td>5.000  </td></tr>\n",
       "\t<tr><th scope=row>Value_Index</th><td>2.5169 </td><td>13.4454</td><td>4.5522 </td><td>-0.1073</td><td>24.1396</td><td>31.1213</td><td>13.1305</td><td>3.7714 </td><td>56.1748</td><td>0.6928 </td><td>...    </td><td>0.5243 </td><td>3.3527 </td><td>0.8414 </td><td>2.3369 </td><td>0.144  </td><td>1.1994 </td><td>0      </td><td>1.229  </td><td>0      </td><td>0.047  </td></tr>\n",
       "</tbody>\n",
       "</table>\n",
       "</dd>\n",
       "\t<dt>$Best.partition</dt>\n",
       "\t\t<dd><dl class=dl-horizontal>\n",
       "\t<dt>France</dt>\n",
       "\t\t<dd>1</dd>\n",
       "\t<dt>Turkey</dt>\n",
       "\t\t<dd>2</dd>\n",
       "\t<dt>Russia</dt>\n",
       "\t\t<dd>2</dd>\n",
       "\t<dt>UK</dt>\n",
       "\t\t<dd>1</dd>\n",
       "\t<dt>Italy</dt>\n",
       "\t\t<dd>1</dd>\n",
       "\t<dt>Germany</dt>\n",
       "\t\t<dd>2</dd>\n",
       "\t<dt>Spain</dt>\n",
       "\t\t<dd>1</dd>\n",
       "\t<dt>US</dt>\n",
       "\t\t<dd>3</dd>\n",
       "</dl>\n",
       "</dd>\n",
       "</dl>\n"
      ],
      "text/latex": [
       "\\begin{description}\n",
       "\\item[\\$All.index] \\begin{tabular}{r|llllllllllllllllllllllllll}\n",
       "  & KL & CH & Hartigan & CCC & Scott & Marriot & TrCovW & TraceW & Friedman & Rubin & ... & Ratkowsky & Ball & Ptbiserial & Frey & McClain & Dunn & Hubert & SDindex & Dindex & SDbw\\\\\n",
       "\\hline\n",
       "\t2 & 0.9394   &  7.8161  & 9.1095   & -0.6773  & 18.6268  & 36.8841  & 14.2596  & 9.1198   &  11.5328 &  2.3027  & ...      & 0.4999   & 4.5599   & 0.8414   & 2.3369   & 0.1440   & 1.1994   & 0.0974   & 1.2290   & 0.9752   & 0.3097  \\\\\n",
       "\t3 & 2.5169   & 11.9968  & 4.5573   & -0.1073  & 42.7664  &  4.0603  &  1.1290  & 3.6215   &  34.9893 &  5.7987  & ...      & 0.5243   & 1.2072   & 0.6349   & 0.7131   & 0.9154   & 0.6809   & 0.0857   & 1.3784   & 0.5736   & 0.1455  \\\\\n",
       "\t4 & 2.3474   & 13.4454  & 2.1574   & -0.2553  & 51.7174  &  2.3578  &  0.3953  & 1.8946   &  45.7260 & 11.0841  & ...      & 0.4768   & 0.4737   & 0.5799   & 1.9251   & 1.3798   & 0.8633   & 0.0842   & 1.5889   & 0.4096   & 0.0696  \\\\\n",
       "\t5 & 0.6334   & 12.0466  & 3.9932   & -1.2208  & 67.4273  &  0.5170  &  0.0838  & 1.2308   & 101.9008 & 17.0621  & ...      & 0.4339   & 0.2462   & 0.4763   & 0.6194   & 2.2147   & 0.8575   & 0.0869   & 2.3199   & 0.2967   & 0.0470  \\\\\n",
       "\\end{tabular}\n",
       "\n",
       "\\item[\\$All.CriticalValues] \\begin{tabular}{r|lll}\n",
       "  & CritValue\\_Duda & CritValue\\_PseudoT2 & Fvalue\\_Beale\\\\\n",
       "\\hline\n",
       "\t2 & -0.0559  & -94.5213 & 0.1361  \\\\\n",
       "\t3 & -0.3282  &  -8.0930 & 0.5116  \\\\\n",
       "\t4 & -0.5009  &  -2.9964 & 1.0000  \\\\\n",
       "\t5 & -0.5009  &  -2.9964 & 0.8849  \\\\\n",
       "\\end{tabular}\n",
       "\n",
       "\\item[\\$Best.nc] \\begin{tabular}{r|llllllllllllllllllllllllll}\n",
       "  & KL & CH & Hartigan & CCC & Scott & Marriot & TrCovW & TraceW & Friedman & Rubin & ... & Ratkowsky & Ball & PtBiserial & Frey & McClain & Dunn & Hubert & SDindex & Dindex & SDbw\\\\\n",
       "\\hline\n",
       "\tNumber\\_clusters & 3.0000  &  4.0000 & 3.0000  &  3.0000 &  3.0000 &  3.0000 &  3.0000 & 3.0000  &  5.0000 & 4.0000  & ...     & 3.0000  & 3.0000  & 2.0000  & 2.0000  & 2.000   & 2.0000  & 0       & 2.000   & 0       & 5.000  \\\\\n",
       "\tValue\\_Index & 2.5169  & 13.4454 & 4.5522  & -0.1073 & 24.1396 & 31.1213 & 13.1305 & 3.7714  & 56.1748 & 0.6928  & ...     & 0.5243  & 3.3527  & 0.8414  & 2.3369  & 0.144   & 1.1994  & 0       & 1.229   & 0       & 0.047  \\\\\n",
       "\\end{tabular}\n",
       "\n",
       "\\item[\\$Best.partition] \\begin{description*}\n",
       "\\item[France] 1\n",
       "\\item[Turkey] 2\n",
       "\\item[Russia] 2\n",
       "\\item[UK] 1\n",
       "\\item[Italy] 1\n",
       "\\item[Germany] 2\n",
       "\\item[Spain] 1\n",
       "\\item[US] 3\n",
       "\\end{description*}\n",
       "\n",
       "\\end{description}\n"
      ],
      "text/markdown": [
       "$All.index\n",
       ":   \n",
       "| <!--/--> | KL | CH | Hartigan | CCC | Scott | Marriot | TrCovW | TraceW | Friedman | Rubin | ... | Ratkowsky | Ball | Ptbiserial | Frey | McClain | Dunn | Hubert | SDindex | Dindex | SDbw |\n",
       "|---|---|---|---|---|---|---|---|---|---|---|---|---|---|---|---|---|---|---|---|---|---|\n",
       "| 2 | 0.9394   |  7.8161  | 9.1095   | -0.6773  | 18.6268  | 36.8841  | 14.2596  | 9.1198   |  11.5328 |  2.3027  | ...      | 0.4999   | 4.5599   | 0.8414   | 2.3369   | 0.1440   | 1.1994   | 0.0974   | 1.2290   | 0.9752   | 0.3097   |\n",
       "| 3 | 2.5169   | 11.9968  | 4.5573   | -0.1073  | 42.7664  |  4.0603  |  1.1290  | 3.6215   |  34.9893 |  5.7987  | ...      | 0.5243   | 1.2072   | 0.6349   | 0.7131   | 0.9154   | 0.6809   | 0.0857   | 1.3784   | 0.5736   | 0.1455   |\n",
       "| 4 | 2.3474   | 13.4454  | 2.1574   | -0.2553  | 51.7174  |  2.3578  |  0.3953  | 1.8946   |  45.7260 | 11.0841  | ...      | 0.4768   | 0.4737   | 0.5799   | 1.9251   | 1.3798   | 0.8633   | 0.0842   | 1.5889   | 0.4096   | 0.0696   |\n",
       "| 5 | 0.6334   | 12.0466  | 3.9932   | -1.2208  | 67.4273  |  0.5170  |  0.0838  | 1.2308   | 101.9008 | 17.0621  | ...      | 0.4339   | 0.2462   | 0.4763   | 0.6194   | 2.2147   | 0.8575   | 0.0869   | 2.3199   | 0.2967   | 0.0470   |\n",
       "\n",
       "\n",
       "$All.CriticalValues\n",
       ":   \n",
       "| <!--/--> | CritValue_Duda | CritValue_PseudoT2 | Fvalue_Beale |\n",
       "|---|---|---|---|\n",
       "| 2 | -0.0559  | -94.5213 | 0.1361   |\n",
       "| 3 | -0.3282  |  -8.0930 | 0.5116   |\n",
       "| 4 | -0.5009  |  -2.9964 | 1.0000   |\n",
       "| 5 | -0.5009  |  -2.9964 | 0.8849   |\n",
       "\n",
       "\n",
       "$Best.nc\n",
       ":   \n",
       "| <!--/--> | KL | CH | Hartigan | CCC | Scott | Marriot | TrCovW | TraceW | Friedman | Rubin | ... | Ratkowsky | Ball | PtBiserial | Frey | McClain | Dunn | Hubert | SDindex | Dindex | SDbw |\n",
       "|---|---|---|---|---|---|---|---|---|---|---|---|---|---|---|---|---|---|---|---|---|---|\n",
       "| Number_clusters | 3.0000  |  4.0000 | 3.0000  |  3.0000 |  3.0000 |  3.0000 |  3.0000 | 3.0000  |  5.0000 | 4.0000  | ...     | 3.0000  | 3.0000  | 2.0000  | 2.0000  | 2.000   | 2.0000  | 0       | 2.000   | 0       | 5.000   |\n",
       "| Value_Index | 2.5169  | 13.4454 | 4.5522  | -0.1073 | 24.1396 | 31.1213 | 13.1305 | 3.7714  | 56.1748 | 0.6928  | ...     | 0.5243  | 3.3527  | 0.8414  | 2.3369  | 0.144   | 1.1994  | 0       | 1.229   | 0       | 0.047   |\n",
       "\n",
       "\n",
       "$Best.partition\n",
       ":   France\n",
       ":   1Turkey\n",
       ":   2Russia\n",
       ":   2UK\n",
       ":   1Italy\n",
       ":   1Germany\n",
       ":   2Spain\n",
       ":   1US\n",
       ":   3\n",
       "\n",
       "\n",
       "\n",
       "\n"
      ],
      "text/plain": [
       "$All.index\n",
       "      KL      CH Hartigan     CCC   Scott Marriot  TrCovW TraceW Friedman\n",
       "2 0.9394  7.8161   9.1095 -0.6773 18.6268 36.8841 14.2596 9.1198  11.5328\n",
       "3 2.5169 11.9968   4.5573 -0.1073 42.7664  4.0603  1.1290 3.6215  34.9893\n",
       "4 2.3474 13.4454   2.1574 -0.2553 51.7174  2.3578  0.3953 1.8946  45.7260\n",
       "5 0.6334 12.0466   3.9932 -1.2208 67.4273  0.5170  0.0838 1.2308 101.9008\n",
       "    Rubin Cindex     DB Silhouette   Duda Pseudot2   Beale Ratkowsky   Ball\n",
       "2  2.3027 0.5587 0.3098     0.6140 0.3971   7.5912  2.1539    0.4999 4.5599\n",
       "3  5.7987 0.4058 0.5824     0.5030 0.5693   1.5128  0.8585    0.5243 1.2072\n",
       "4 11.0841 0.5191 0.4157     0.5424 1.4120  -0.2918 -0.2484    0.4768 0.4737\n",
       "5 17.0621 0.4176 0.3751     0.5995 0.8033   0.2448  0.2084    0.4339 0.2462\n",
       "  Ptbiserial   Frey McClain   Dunn Hubert SDindex Dindex   SDbw\n",
       "2     0.8414 2.3369  0.1440 1.1994 0.0974  1.2290 0.9752 0.3097\n",
       "3     0.6349 0.7131  0.9154 0.6809 0.0857  1.3784 0.5736 0.1455\n",
       "4     0.5799 1.9251  1.3798 0.8633 0.0842  1.5889 0.4096 0.0696\n",
       "5     0.4763 0.6194  2.2147 0.8575 0.0869  2.3199 0.2967 0.0470\n",
       "\n",
       "$All.CriticalValues\n",
       "  CritValue_Duda CritValue_PseudoT2 Fvalue_Beale\n",
       "2        -0.0559           -94.5213       0.1361\n",
       "3        -0.3282            -8.0930       0.5116\n",
       "4        -0.5009            -2.9964       1.0000\n",
       "5        -0.5009            -2.9964       0.8849\n",
       "\n",
       "$Best.nc\n",
       "                    KL      CH Hartigan     CCC   Scott Marriot  TrCovW TraceW\n",
       "Number_clusters 3.0000  4.0000   3.0000  3.0000  3.0000  3.0000  3.0000 3.0000\n",
       "Value_Index     2.5169 13.4454   4.5522 -0.1073 24.1396 31.1213 13.1305 3.7714\n",
       "                Friedman  Rubin Cindex     DB Silhouette   Duda PseudoT2  Beale\n",
       "Number_clusters   5.0000 4.0000 3.0000 2.0000      2.000 2.0000       NA 2.0000\n",
       "Value_Index      56.1748 0.6928 0.4058 0.3098      0.614 0.3971       NA 2.1539\n",
       "                Ratkowsky   Ball PtBiserial   Frey McClain   Dunn Hubert\n",
       "Number_clusters    3.0000 3.0000     2.0000 2.0000   2.000 2.0000      0\n",
       "Value_Index        0.5243 3.3527     0.8414 2.3369   0.144 1.1994      0\n",
       "                SDindex Dindex  SDbw\n",
       "Number_clusters   2.000      0 5.000\n",
       "Value_Index       1.229      0 0.047\n",
       "\n",
       "$Best.partition\n",
       " France  Turkey  Russia      UK   Italy Germany   Spain      US \n",
       "      1       2       2       1       1       2       1       3 \n"
      ]
     },
     "metadata": {},
     "output_type": "display_data"
    },
    {
     "data": {
      "image/png": "[encoded data removed]",
      "text/plain": [
       "plot without title"
      ]
     },
     "metadata": {},
     "output_type": "display_data"
    }
   ],
   "source": [
    "data <- rdata$data %>% group_by(Country) %>% \n",
    " filter(max(Confirmed)>=cutoff*10) %>% \n",
    " filter(Confirmed>=cutoff & Confirmed<=cutoff*10) %>% \n",
    " mutate(Days=max(Date)-min(Date)) %>% arrange(desc(Days)) %>% \n",
    " mutate(Days=as.numeric(as.character(Days))) %>% filter(Date==max(Date)) %>% \n",
    " select(c(\"Country\", \"Date\", \"Trust\", \"Days\", \"Confirmed\", \"Deaths\")) %>% \n",
    " ungroup() %>% column_to_rownames(\"Country\") %>% \n",
    " select(c(\"Days\", \"Confirmed\", \"Deaths\"))\n",
    "\n",
    "NbClust(scale(data), distance=\"euclidean\", min.nc=2, max.nc=5, method=\"average\")\n",
    "# 군집수 추천 : cutoff5000(3개)"
   ]
  },
  {
   "cell_type": "code",
   "execution_count": 70,
   "metadata": {},
   "outputs": [
    {
     "data": {
      "image/png": "[encoded data removed]",
      "text/plain": [
       "plot without title"
      ]
     },
     "metadata": {},
     "output_type": "display_data"
    }
   ],
   "source": [
    "rdata$fit.hc <- data %>%  scale() %>% dist(method=\"euclidean\") %>% \n",
    " hclust(method=\"ward.D2\")\n",
    "# manhanttan or euclidean 유클리드 제곱거리(single, complete, average, mcquitty, median or centroid), 오차제곱합(ward.D, ward.D2)\n",
    "\n",
    "fviz_dend(rdata$fit.hc, cex=1.3, labels_track_height=2, k=3,    #cutoff=10000\n",
    " color_labels_by_k=T, rect=T)"
   ]
  },
  {
   "cell_type": "markdown",
   "metadata": {},
   "source": [
    "10,000에서 100,000으로 확진자가 증가한 국가들의 특성에 따라 묶어보았음.\n",
    " 군집에 사용된 feature ; trust, population, confirmed, death, date\n",
    "US가 독보적으로 구분되고 있는 것을 볼 수 있음(가장 빠른 증가율)\n",
    "\n",
    "\n",
    "나라별? 어떤 특성이 있는지?"
   ]
  },
  {
   "cell_type": "code",
   "execution_count": 84,
   "metadata": {},
   "outputs": [
    {
     "name": "stderr",
     "output_type": "stream",
     "text": [
      "Parsed with column specification:\n",
      "cols(\n",
      "  case_id = col_double(),\n",
      "  province = col_character(),\n",
      "  city = col_character(),\n",
      "  group = col_logical(),\n",
      "  infection_case = col_character(),\n",
      "  confirmed = col_double(),\n",
      "  latitude = col_character(),\n",
      "  longitude = col_character()\n",
      ")\n",
      "Parsed with column specification:\n",
      "cols(\n",
      "  patient_id = col_double(),\n",
      "  global_num = col_double(),\n",
      "  sex = col_character(),\n",
      "  birth_year = col_double(),\n",
      "  age = col_character(),\n",
      "  country = col_character(),\n",
      "  province = col_character(),\n",
      "  city = col_character(),\n",
      "  disease = col_logical(),\n",
      "  infection_case = col_character(),\n",
      "  infection_order = col_double(),\n",
      "  infected_by = col_double(),\n",
      "  contact_number = col_double(),\n",
      "  symptom_onset_date = col_date(format = \"\"),\n",
      "  confirmed_date = col_date(format = \"\"),\n",
      "  released_date = col_date(format = \"\"),\n",
      "  deceased_date = col_date(format = \"\"),\n",
      "  state = col_character()\n",
      ")\n",
      "Parsed with column specification:\n",
      "cols(\n",
      "  patient_id = col_double(),\n",
      "  global_num = col_double(),\n",
      "  date = col_date(format = \"\"),\n",
      "  province = col_character(),\n",
      "  city = col_character(),\n",
      "  type = col_character(),\n",
      "  latitude = col_double(),\n",
      "  longitude = col_double()\n",
      ")\n",
      "Parsed with column specification:\n",
      "cols(\n",
      "  code = col_double(),\n",
      "  province = col_character(),\n",
      "  city = col_character(),\n",
      "  latitude = col_double(),\n",
      "  longitude = col_double(),\n",
      "  elementary_school_count = col_double(),\n",
      "  kindergarten_count = col_double(),\n",
      "  university_count = col_double(),\n",
      "  academy_ratio = col_double(),\n",
      "  elderly_population_ratio = col_double(),\n",
      "  elderly_alone_ratio = col_double(),\n",
      "  nursing_home_count = col_double()\n",
      ")\n",
      "Parsed with column specification:\n",
      "cols(\n",
      "  date = col_date(format = \"\"),\n",
      "  cold = col_double(),\n",
      "  flu = col_double(),\n",
      "  pneumonia = col_double(),\n",
      "  coronavirus = col_double()\n",
      ")\n",
      "Parsed with column specification:\n",
      "cols(\n",
      "  date = col_date(format = \"\"),\n",
      "  hour = col_double(),\n",
      "  birth_year = col_double(),\n",
      "  sex = col_character(),\n",
      "  province = col_character(),\n",
      "  city = col_character(),\n",
      "  fp_num = col_double()\n",
      ")\n",
      "Parsed with column specification:\n",
      "cols(\n",
      "  date = col_date(format = \"\"),\n",
      "  time = col_double(),\n",
      "  test = col_double(),\n",
      "  negative = col_double(),\n",
      "  confirmed = col_double(),\n",
      "  released = col_double(),\n",
      "  deceased = col_double()\n",
      ")\n",
      "Parsed with column specification:\n",
      "cols(\n",
      "  date = col_date(format = \"\"),\n",
      "  time = col_double(),\n",
      "  age = col_character(),\n",
      "  confirmed = col_double(),\n",
      "  deceased = col_double()\n",
      ")\n",
      "Parsed with column specification:\n",
      "cols(\n",
      "  date = col_date(format = \"\"),\n",
      "  time = col_double(),\n",
      "  sex = col_character(),\n",
      "  confirmed = col_double(),\n",
      "  deceased = col_double()\n",
      ")\n",
      "Parsed with column specification:\n",
      "cols(\n",
      "  date = col_date(format = \"\"),\n",
      "  time = col_double(),\n",
      "  province = col_character(),\n",
      "  confirmed = col_double(),\n",
      "  released = col_double(),\n",
      "  deceased = col_double()\n",
      ")\n",
      "Parsed with column specification:\n",
      "cols(\n",
      "  code = col_double(),\n",
      "  province = col_character(),\n",
      "  date = col_date(format = \"\"),\n",
      "  avg_temp = col_double(),\n",
      "  min_temp = col_double(),\n",
      "  max_temp = col_double(),\n",
      "  precipitation = col_double(),\n",
      "  max_wind_speed = col_double(),\n",
      "  most_wind_direction = col_double(),\n",
      "  avg_relative_humidity = col_double()\n",
      ")\n",
      "Parsed with column specification:\n",
      "cols(\n",
      "  policy_id = col_double(),\n",
      "  country = col_character(),\n",
      "  type = col_character(),\n",
      "  gov_policy = col_character(),\n",
      "  detail = col_character(),\n",
      "  start_date = col_date(format = \"\"),\n",
      "  end_date = col_date(format = \"\")\n",
      ")\n"
     ]
    }
   ],
   "source": [
    "#loading data\n",
    "setwd(\"C:/Users/seung/OneDrive/R/Dacon/Dataset\")\n",
    "case <- read_csv(\"Case.csv\")\n",
    "patient_info <- read_csv(\"PatientInfo.csv\")\n",
    "patient_route <- read_csv(\"PatientRoute.csv\")\n",
    "region <- read_csv(\"Region.csv\")\n",
    "search_trend <- read_csv(\"SearchTrend.csv\")\n",
    "seoul_floating <- read_csv(\"SeoulFloating.csv\")\n",
    "time <- read_csv(\"Time.csv\")\n",
    "time_age <- read_csv(\"TimeAge.csv\")\n",
    "time_gender <- read_csv(\"TimeGender.csv\")\n",
    "time_province <- read_csv(\"TimeProvince.csv\")\n",
    "weather <- read_csv(\"Weather.csv\")\n",
    "policy <- read_csv(\"Policy.csv\")\n"
   ]
  },
  {
   "cell_type": "code",
   "execution_count": 85,
   "metadata": {},
   "outputs": [
    {
     "name": "stdout",
     "output_type": "stream",
     "text": [
      "Classes 'spec_tbl_df', 'tbl_df', 'tbl' and 'data.frame':\t450 obs. of  5 variables:\n",
      " $ date     : Date, format: \"2020-03-02\" \"2020-03-02\" ...\n",
      " $ time     : num  0 0 0 0 0 0 0 0 0 0 ...\n",
      " $ age      : chr  \"0s\" \"10s\" \"20s\" \"30s\" ...\n",
      " $ confirmed: num  32 169 1235 506 633 ...\n",
      " $ deceased : num  0 0 0 1 1 5 6 6 3 0 ...\n",
      " - attr(*, \"spec\")=\n",
      "  .. cols(\n",
      "  ..   date = col_date(format = \"\"),\n",
      "  ..   time = col_double(),\n",
      "  ..   age = col_character(),\n",
      "  ..   confirmed = col_double(),\n",
      "  ..   deceased = col_double()\n",
      "  .. )\n"
     ]
    },
    {
     "data": {
      "image/png": "[encoded data removed]",
      "text/plain": [
       "plot without title"
      ]
     },
     "metadata": {},
     "output_type": "display_data"
    }
   ],
   "source": [
    "# 연령대별 확진자 분포\n",
    "str(time_age)\n",
    "time_age %>% \n",
    " ggplot(aes(date, confirmed))+\n",
    " geom_line(aes(group=age, color=age))+\n",
    " theme_light()+\n",
    " ggtitle(\"Number of Confirmed patients by Age\")+\n",
    " theme(plot.title = element_text(hjust=0.5))"
   ]
  },
  {
   "cell_type": "code",
   "execution_count": 88,
   "metadata": {},
   "outputs": [],
   "source": [
    "# 정책 - 사회적 거리두기\n",
    "\n",
    "social <- policy %>% filter(type == 'Social') %>% select(gov_policy,detail,start_date,end_date)\n"
   ]
  },
  {
   "cell_type": "code",
   "execution_count": 91,
   "metadata": {},
   "outputs": [
    {
     "data": {
      "image/png": "[encoded data removed]",
      "text/plain": [
       "plot without title"
      ]
     },
     "metadata": {},
     "output_type": "display_data"
    }
   ],
   "source": [
    "korea <- covid19 %>% filter(Country == 'Korea') %>% as_tibble()\n",
    "result <- ggplot(korea, aes(x=Date, y=Confirmed)) +\n",
    " geom_line() +\n",
    " scale_x_date(date_breaks = \"2 week\", date_labels = \"%m-%d\") + \n",
    " scale_y_continuous() +\n",
    " ggtitle(\"the flow of confirmed patients by each policy milestone\") + \n",
    " theme(plot.title = element_text(hjust = 0.5)) +\n",
    " geom_vline(xintercept = as.Date(\"2020-03-22\", \"%Y-%m-%d\"), linetype=\"longdash\",  color = \"red\", size=1)+\n",
    " geom_vline(xintercept = as.Date(\"2020-04-06\", \"%Y-%m-%d\"), linetype=\"longdash\",  color = \"red\", size=1)+\n",
    " geom_vline(xintercept = as.Date(\"2020-04-20\", \"%Y-%m-%d\"), linetype=\"longdash\",  color = \"blue\", size=1)\n",
    "result"
   ]
  },
  {
   "cell_type": "markdown",
   "metadata": {},
   "source": [
    " 확진자 급직적 증가한 일자 2020-02-18\n",
    " 사망자 정점 일자 2020-02-29\n",
    " 전 세계 국가 대상 특별 입국 절차 시행 2020-03-19\n",
    " 해외입국자 14일 의무자가격리 실시 2020-04-01\n",
    " 1차 실시 2020-03-22~2020-04-05\n",
    " 2차 실시 2020-04-06~2020-04-19\n",
    " 3차 실시 2020-04-20~2020-05-05"
   ]
  },
  {
   "cell_type": "code",
   "execution_count": 98,
   "metadata": {},
   "outputs": [
    {
     "data": {
      "image/png": "[encoded data removed]",
      "text/plain": [
       "plot without title"
      ]
     },
     "metadata": {},
     "output_type": "display_data"
    }
   ],
   "source": [
    "# 해외 유입 추이 변화 \n",
    "patient_info %>%\n",
    " filter(infection_case==\"overseas inflow\") %>%\n",
    " group_by(confirmed_date) %>% summarize(n = n()) %>% \n",
    " ggplot(aes(x=confirmed_date, y=n)) + \n",
    " geom_bar(stat = \"identity\") +\n",
    " scale_x_date(date_breaks = \"2 week\", date_labels = \"%m-%d\") + \n",
    " ggtitle(\"Proportion of overseas inflow patients by date\")+\n",
    " geom_vline(xintercept = as.Date(\"2020-03-22\", \"%Y-%m-%d\"), linetype=\"longdash\",  color = \"red\", size=1)+\n",
    " geom_vline(xintercept = as.Date(\"2020-04-06\", \"%Y-%m-%d\"), linetype=\"longdash\",  color = \"red\", size=1)+\n",
    " geom_vline(xintercept = as.Date(\"2020-04-20\", \"%Y-%m-%d\"), linetype=\"longdash\",  color = \"blue\", size=1)"
   ]
  },
  {
   "cell_type": "code",
   "execution_count": null,
   "metadata": {},
   "outputs": [],
   "source": []
  }
 ],
 "metadata": {
  "kernelspec": {
   "display_name": "R",
   "language": "R",
   "name": "ir"
  },
  "language_info": {
   "codemirror_mode": "r",
   "file_extension": ".r",
   "mimetype": "text/x-r-source",
   "name": "R",
   "pygments_lexer": "r",
   "version": "3.6.1"
  }
 },
 "nbformat": 4,
 "nbformat_minor": 2
}
